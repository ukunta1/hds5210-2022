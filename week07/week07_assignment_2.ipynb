{
 "cells": [
  {
   "cell_type": "markdown",
   "metadata": {},
   "source": [
    "# Week 7 Assignment\n",
    "\n",
    "_MkKinney 6.1_\n",
    "\n",
    "This week has been all about getting information off the internet both in structured data formats (CSV, JSON, etc) as well as HTML.  For these exercises, we're going to use two practical examples of fetching data from web pages to show how to use Pandas and BeautifulSoup to extract structured information from the web.\n",
    "\n",
    "---\n",
    "---"
   ]
  },
  {
   "cell_type": "markdown",
   "metadata": {},
   "source": [
    "### 33.1 Parsing a list in HTML\n",
    "\n",
    "Go to the Banner Health Price Transparency Page: https://www.bannerhealth.com/patients/billing/pricing-resources/hospital-price-transparency\n",
    "\n",
    "Notice that there is a list of hospitals and the city they are in.  We want to parse the underlying HTML to create a list of all the hospitals along with which city they're in.\n",
    "\n",
    "```json\n",
    "[\n",
    "    [\"Banner - University Medical Center Phoenix\", \"Arizona\"],\n",
    "    [\"Banner - University Medical Center South \", \"Arizona\"],\n",
    "    ...\n",
    "]\n",
    "```\n",
    "\n",
    "To examine the underlying HTML code, you can use Chrome, right-click, and choose **Inspect**.\n",
    "\n",
    "For reference, the documentation for BeautifulSoup is here: https://www.crummy.com/software/BeautifulSoup/bs4/doc/\n"
   ]
  },
  {
   "cell_type": "markdown",
   "metadata": {},
   "source": [
    "In the cell below, create a function called **parse_banner(url)** that takes as it's one parameter the URL of the webpage to be parsed for links.  Make sure you include docstrings and a good test case using hte URL provided above."
   ]
  },
  {
   "cell_type": "code",
   "execution_count": 11,
   "metadata": {},
   "outputs": [],
   "source": [
    "from bs4 import BeautifulSoup\n",
    "import requests\n",
    "url = 'https://www.bannerhealth.com/patients/billing/pricing-resources/hospital-price-transparency'\n",
    "# Note that you'll need to fetch the data using the following syntax to include headers\n",
    "# that make the web server think you're a real web browser.\n",
    "headers = { \"User-Agent\": \"Mozilla/5.0 (Macintosh; Intel Mac OS X 11_2_3) AppleWebKit/537.36 (KHTML, like Gecko) Chrome/89.0.4389.90 Safari/537.36\" }\n",
    "response = requests.get(url, headers=headers)\n",
    "soup = BeautifulSoup(response.text, 'html.parser')\n"
   ]
  },
  {
   "cell_type": "code",
   "execution_count": 12,
   "metadata": {},
   "outputs": [],
   "source": [
    "output = []\n",
    "def parse_banner(url):\n",
    "    \"\"\"\n",
    "    This function takes url and gives list of lists which contains state and hospital.\n",
    "    \n",
    "    \"\"\"\n",
    "    item = soup.find_all('div', {\"class\":\"col-md-8\"})[0]\n",
    "    for hospital_list in item.find_all('ul'):\n",
    "        state = hospital_list.previous_sibling.previous_sibling.string       \n",
    "        for hospital in hospital_list.find_all('li'):\n",
    "            output.append([hospital.text,state]) \n",
    "    \n",
    "    return output\n"
   ]
  },
  {
   "cell_type": "code",
   "execution_count": 13,
   "metadata": {},
   "outputs": [
    {
     "name": "stdout",
     "output_type": "stream",
     "text": [
      "Finding tests in NoName\n"
     ]
    }
   ],
   "source": [
    "import doctest\n",
    "doctest.run_docstring_examples(parse_banner, globals(), verbose=True)"
   ]
  },
  {
   "cell_type": "code",
   "execution_count": 14,
   "metadata": {},
   "outputs": [],
   "source": [
    "banner = parse_banner('https://www.bannerhealth.com/patients/billing/pricing-resources/hospital-price-transparency')\n",
    "assert len(banner)==38, 'Length of result should have been 38, but {} returned.'.format(len(banner))\n",
    "assert banner[0][1]=='Arizona', 'Wrong data found in the first result item: {}'.format(banner[0])"
   ]
  },
  {
   "cell_type": "code",
   "execution_count": 15,
   "metadata": {},
   "outputs": [
    {
     "data": {
      "text/plain": [
       "[['Banner - University Medical Center Phoenix', 'Arizona'],\n",
       " ['Banner - University Medical Center South\\xa0', 'Arizona'],\n",
       " ['Banner - University Medical Center Tucson', 'Arizona'],\n",
       " ['Banner Baywood Medical Center\\xa0', 'Arizona'],\n",
       " ['Banner Behavioral Health Hospital', 'Arizona'],\n",
       " ['Banner Boswell Medical Center', 'Arizona'],\n",
       " ['Banner Casa Grande Medical Center', 'Arizona'],\n",
       " ['Banner Del E. Webb Medical Center', 'Arizona'],\n",
       " [\"Banner Desert Medical Center/Cardon Children's Medical Center\\xa0\\xa0\",\n",
       "  'Arizona'],\n",
       " ['Banner Estrella Medical Center', 'Arizona'],\n",
       " ['Banner Gateway Medical Center/Banner MD Anderson Cancer Center', 'Arizona'],\n",
       " ['Banner Goldfield Medical Center\\xa0\\xa0', 'Arizona'],\n",
       " ['Banner Heart Hospital', 'Arizona'],\n",
       " ['Banner Ironwood Medical Center', 'Arizona'],\n",
       " ['Banner Ocotillo Medical Center', 'Arizona'],\n",
       " ['Banner Payson Medical Center', 'Arizona'],\n",
       " ['Banner Rehabilitation Hospitals', 'Arizona'],\n",
       " ['Banner Thunderbird Medical Center', 'Arizona'],\n",
       " ['Page Hospital', 'Arizona'],\n",
       " ['Banner Lassen Medical Center', 'California'],\n",
       " ['Banner Fort Collins Medical Center', 'Colorado'],\n",
       " ['McKee Medical Center', 'Colorado'],\n",
       " ['North Colorado Medical Center', 'Colorado'],\n",
       " ['Sterling Regional Medical Center', 'Colorado'],\n",
       " ['East Morgan County Hospital', 'Colorado'],\n",
       " ['Ogallala Community Hospital', 'Nebraska'],\n",
       " ['Banner Churchill Community Hospital', 'Nevada'],\n",
       " ['Banner Wyoming Medical Center\\xa0Central Campus', 'Wyoming'],\n",
       " ['Banner Wyoming Medical Center East Campus', 'Wyoming'],\n",
       " ['Community Hospital', 'Wyoming'],\n",
       " ['Washakie Medical Center', 'Wyoming'],\n",
       " ['Platte County Memorial Hospital', 'Wyoming'],\n",
       " ['Arizona', 'State-Specific Regulations'],\n",
       " ['California', 'State-Specific Regulations'],\n",
       " ['Colorado', 'State-Specific Regulations'],\n",
       " ['Nebraska', 'State-Specific Regulations'],\n",
       " ['Nevada', 'State-Specific Regulations'],\n",
       " ['Wyoming', 'State-Specific Regulations']]"
      ]
     },
     "execution_count": 15,
     "metadata": {},
     "output_type": "execute_result"
    }
   ],
   "source": [
    "output"
   ]
  },
  {
   "cell_type": "markdown",
   "metadata": {},
   "source": [
    "---\n",
    "\n",
    "## 33.2 Using a REST API (from GitHub.com)\n",
    "\n",
    "Many websites provide something called a REST API to access information from their site programatically, rather than relying on HTML.  One example is GitHub.com, whose API allows you do to things like \"list all the public repositories for a user.\"\n",
    "\n",
    "The documentation for GitHub.com's REST API can be found here: https://docs.github.com/en/rest/guides/getting-started-with-the-rest-api\n",
    "\n",
    "Create a function called **repo_summary(user)** that takes a GitHub.com user name as it's parameter and retrieves a list of all the repositories you can see for that user.  The specific documentation for the this kind of request can be found here: https://docs.github.com/en/rest/reference/repos#list-repositories-for-a-user. Make sure your function is well documented with a docstring and includes a simple test to verify that you get back 12 repositories when querying for the repositories for user **paulboal**.\n",
    "\n",
    "I've provided a related example to help you out."
   ]
  },
  {
   "cell_type": "code",
   "execution_count": null,
   "metadata": {},
   "outputs": [],
   "source": [
    "# Example -- this example of code shows how to get basic information on the user paulboal\n",
    "# For your solution, make sure you meet the requirements in the instructions above.\n",
    "\n",
    "\n",
    "# Write a function that returns the \"location\" for any github user\n",
    "import requests\n",
    "\n",
    "def github_location(user):\n",
    "    response = requests.get('https://api.github.com/users/'+user)\n",
    "    data = response.json()\n",
    "    location = data.get('location')\n",
    "    return location\n",
    "\n"
   ]
  },
  {
   "cell_type": "code",
   "execution_count": null,
   "metadata": {},
   "outputs": [],
   "source": [
    "github_location('paulboal')"
   ]
  },
  {
   "cell_type": "code",
   "execution_count": null,
   "metadata": {},
   "outputs": [],
   "source": [
    "# Your code Here\n",
    "def repo_summary(user):\n",
    "    \"\"\"\n",
    "    This function gets username of github and gives the list of repos of that user.\n",
    "    test = repo_summary('MarcSkovMadsen')\n",
    "    print(test)\n",
    "    \n",
    "    \"\"\"\n",
    "    url = 'https://api.github.com/users/{}'.format(user)\n",
    "    data = requests.get(url).json()\n",
    "    repos = requests.get(data.get('repos_url')).json()\n",
    "    repo_names = []\n",
    "    for repo in repos:\n",
    "        repo_names.append(repo.get('name'))\n",
    "    return repo_names \n",
    "#testcase\n",
    "test = repo_summary('MarcSkovMadsen')\n",
    "print(test)\n",
    "    "
   ]
  },
  {
   "cell_type": "code",
   "execution_count": null,
   "metadata": {},
   "outputs": [],
   "source": [
    "import doctest\n",
    "doctest.run_docstring_examples(repo_summary, globals(), verbose=True)"
   ]
  },
  {
   "cell_type": "code",
   "execution_count": null,
   "metadata": {},
   "outputs": [],
   "source": [
    "repos = repo_summary('paulboal')\n",
    "assert len(repos)==12, 'Expecing 12, but {} were found'.format(len(repos))"
   ]
  },
  {
   "cell_type": "markdown",
   "metadata": {},
   "source": [
    "---\n",
    "\n",
    "### 33.3 Find Something of Your Own\n",
    "\n",
    "Do some web searches and find an HTML page with some data that is interesting to something you're studying.  You can extract and parse that information using either BeautifulSoup or Pandas.  If you're using Pandas, then do something interesting to format and structure your data.  If you're using BeautifulSoup, you'll just need to do the work of parsing the data out of HTML -- that's hard enough!\n",
    "\n",
    "You don't need to build this as a function.  Just use notebook cells as I've done above.  You will be graded based on _style_.  Use variable names that make sense for your problem / solution. Cleanup anything you don't need before you submit your work."
   ]
  },
  {
   "cell_type": "code",
   "execution_count": null,
   "metadata": {},
   "outputs": [],
   "source": [
    "# Your Code Here\n",
    "# importing the libraries\n",
    "### pandas\n",
    "\n",
    "# defining\n",
    "\n",
    "year = '2022'\n",
    "str = \"https://www.baseball-reference.com/teams/STL/2022.shtml#team_batting\"\n",
    "\n",
    "url = str.format(year)\n",
    "url"
   ]
  },
  {
   "cell_type": "code",
   "execution_count": null,
   "metadata": {},
   "outputs": [],
   "source": [
    "import pandas as pd"
   ]
  },
  {
   "cell_type": "code",
   "execution_count": 10,
   "metadata": {},
   "outputs": [
    {
     "ename": "NameError",
     "evalue": "name 'pd' is not defined",
     "output_type": "error",
     "traceback": [
      "\u001b[0;31m---------------------------------------------------------------------------\u001b[0m",
      "\u001b[0;31mNameError\u001b[0m                                 Traceback (most recent call last)",
      "\u001b[0;32m<ipython-input-10-123efd54cf6e>\u001b[0m in \u001b[0;36m<module>\u001b[0;34m\u001b[0m\n\u001b[0;32m----> 1\u001b[0;31m \u001b[0mstats\u001b[0m \u001b[0;34m=\u001b[0m \u001b[0mpd\u001b[0m\u001b[0;34m.\u001b[0m\u001b[0mread_html\u001b[0m\u001b[0;34m(\u001b[0m\u001b[0murl\u001b[0m\u001b[0;34m,\u001b[0m\u001b[0mheader\u001b[0m \u001b[0;34m=\u001b[0m \u001b[0;36m0\u001b[0m\u001b[0;34m)\u001b[0m\u001b[0;34m\u001b[0m\u001b[0;34m\u001b[0m\u001b[0m\n\u001b[0m\u001b[1;32m      2\u001b[0m \u001b[0mstats\u001b[0m\u001b[0;34m[\u001b[0m\u001b[0;36m0\u001b[0m\u001b[0;34m]\u001b[0m\u001b[0;34m\u001b[0m\u001b[0;34m\u001b[0m\u001b[0m\n\u001b[1;32m      3\u001b[0m \u001b[0mstats2022\u001b[0m \u001b[0;34m=\u001b[0m \u001b[0mstats\u001b[0m\u001b[0;34m[\u001b[0m\u001b[0;36m0\u001b[0m\u001b[0;34m]\u001b[0m\u001b[0;34m\u001b[0m\u001b[0;34m\u001b[0m\u001b[0m\n\u001b[1;32m      4\u001b[0m \u001b[0mstats2022\u001b[0m\u001b[0;34m\u001b[0m\u001b[0;34m\u001b[0m\u001b[0m\n",
      "\u001b[0;31mNameError\u001b[0m: name 'pd' is not defined"
     ]
    }
   ],
   "source": [
    "stats = pd.read_html(url,header = 0)\n",
    "stats[0]\n",
    "stats2022 = stats[0]\n",
    "stats2022"
   ]
  },
  {
   "cell_type": "code",
   "execution_count": null,
   "metadata": {},
   "outputs": [],
   "source": []
  },
  {
   "cell_type": "markdown",
   "metadata": {},
   "source": [
    "---\n",
    "\n",
    "## Check your work above\n",
    "\n",
    "If you didn't get them all correct, take a few minutes to think through those that aren't correct.\n",
    "\n",
    "\n",
    "## Submitting Your Work\n",
    "\n",
    "In order to submit your work, you'll need to use the `git` command line program to **add** your homework file (this file) to your local repository, **commit** your changes to your local repository, and then **push** those changes up to github.com.  From there, I'll be able to **pull** the changes down and do my grading.  I'll provide some feedback, **commit** and **push** my comments back to you.  Next week, I'll show you how to **pull** down my comments.\n",
    "\n",
    "First run through everything one last time and submit your work:\n",
    "1. Use the `Kernel` -> `Restart Kernel and Run All Cells` menu option to run everything from top to bottom and stop here.\n",
    "2. Then open a new command line by clicking the `+` icon above the file list and chosing `Terminal`\n",
    "3. At the command line in the new Terminal, follow these steps:\n",
    "  1. Change directories to your project folder and the week03 subfolder (`cd <folder name>`)\n",
    "  2. Make sure your project folders are up to date with github.com (`git pull`)\n",
    "  3. Add the homework files for this week (`git add <file name>`)\n",
    "  4. Commit your changes (`git commit -a -m \"message\"`)\n",
    "  5. Push your changes (`git push`)\n",
    "  \n",
    "If anything fails along the way with this submission part of the process, let me know.  I'll help you troubleshoort."
   ]
  }
 ],
 "metadata": {
  "kernelspec": {
   "display_name": "Python 3",
   "language": "python",
   "name": "python3"
  },
  "language_info": {
   "codemirror_mode": {
    "name": "ipython",
    "version": 3
   },
   "file_extension": ".py",
   "mimetype": "text/x-python",
   "name": "python",
   "nbconvert_exporter": "python",
   "pygments_lexer": "ipython3",
   "version": "3.6.7"
  }
 },
 "nbformat": 4,
 "nbformat_minor": 4
}
